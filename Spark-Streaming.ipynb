{
 "cells": [
  {
   "cell_type": "markdown",
   "metadata": {},
   "source": [
    "# Spark Streaming\n",
    "\n",
    "Spark Streaming enables scalable, high-throughput, fault-tolerant stream processing of live data streams.\n",
    "\n",
    "Data can be ingested from many sources like Kafka, Flume, Kinesis, or TCP sockets, and can be processed using complex algorithms expressed with high-level functions like map, reduce, join and window.\n",
    "\n",
    "NB. Spark structured streaming is the newer version and it is bettwe to be used instead of spark streaming. Structured Streaming is a scalable and fault-tolerant stream processing engine built on the Spark SQL engine. You can express your streaming computation the same way you would express a batch computation on static data. The Spark SQL engine will take care of running it incrementally and continuously and updating the final result as streaming data continues to arrive. \n",
    "\n",
    "\n",
    "# Twitter Project\n",
    "\n",
    "Creating a simple application that plots out the popularity of tags associated with incoming tweets streamed live from Twitter.\n",
    "\n",
    "Pre-requisits: 1-Create a Twitter Developer Account to get our access code; 2- Install required python libraries (tweapy, matplotlib, and seaborn).\n",
    "\n",
    "## Twitter set up:\n",
    "\n",
    "1- Go to apps.twitter.com, log in, and create a new app\n",
    "\n",
    "2- Go to keys and tokens. Copy the consumer keys ('API key' and 'API secret key') somewhere safe.\n",
    "\n",
    "3- Click on Generate 'Access Token & Secret'. Copy the 'Access token' and ' Access token secret' somewhere safe!\n",
    "\n",
    "## Required python libraries:\n",
    "\n",
    "### A library to connect python with Twitter: \n",
    "\n",
    "pip3 install tweepy   \n",
    "\n",
    "### Libraries for visualization:\n",
    "\n",
    "pip3 install matplotlib\n",
    "pip3 install seaborn\n",
    "pip3 install pandas\n",
    "\n",
    "# Project Solution Pipeline:\n",
    "\n",
    "The idea is to count of the actual hashtags in the tweets we recieved. we are filtering the tweets by keyword = 'guitar'. Once a specified number of tweets (2,000+, approx. 10 minutes) have been obtained, we will analyze each tweet and will then rank the top 10 most popular hash tag topics using the hash tag marker.\n",
    "\n",
    "## Step 1: Fetching tweets using Python\n",
    "\n",
    "We should write a simple python code (build a simple client) that will get the tweets from Twitter API using Python and passes them to the Spark Streaming instance.\n",
    "\n",
    "Please check TweeterRead.py file. This file was provided by [3]. This code filters the Twitter streams by 'covid-19' keyword.\n",
    "\n",
    "NB. You should fill in the credential according the ones you saved above.\n",
    "\n",
    "## Step 2: Setting Up Our Apache Spark Streaming\n",
    "\n",
    "First, we have to create an instance of Spark Context sc, then we created the Streaming Context ssc from sc with a batch interval 10 seconds that will do the transformation on all streams received every 10 seconds. \n",
    "\n",
    "## Step 3: Build our application\n",
    "\n",
    "We want to calculate how many times the hashtag has been mentioned. \n",
    "\n",
    "## Step 4: Convert into Pandas Dataframes to visualize the result\n",
    "\n",
    "Visualize the result table as it gets refreshed every 10 second\n",
    "\n",
    "**Note:** run each cell one by one. Do not Run All the cells.\n"
   ]
  },
  {
   "cell_type": "code",
   "execution_count": 1,
   "metadata": {},
   "outputs": [],
   "source": [
    "# May cause deprecation warnings, safe to ignore, they aren't errors\n",
    "from pyspark import SparkContext\n",
    "from pyspark.streaming import StreamingContext\n",
    "from pyspark.sql import SQLContext\n",
    "from pyspark.sql.functions import desc"
   ]
  },
  {
   "cell_type": "code",
   "execution_count": 2,
   "metadata": {},
   "outputs": [],
   "source": [
    "# Can only run this once. restart your kernel for any errors.\n",
    "sc = SparkContext()"
   ]
  },
  {
   "cell_type": "code",
   "execution_count": 3,
   "metadata": {},
   "outputs": [],
   "source": [
    "ssc = StreamingContext(sc, 10 )\n",
    "sqlContext = SQLContext(sc)"
   ]
  },
  {
   "cell_type": "code",
   "execution_count": 4,
   "metadata": {},
   "outputs": [],
   "source": [
    "socket_stream = ssc.socketTextStream(\"127.0.0.1\", 5555)"
   ]
  },
  {
   "cell_type": "code",
   "execution_count": 5,
   "metadata": {},
   "outputs": [],
   "source": [
    "lines = socket_stream.window( 20 )"
   ]
  },
  {
   "cell_type": "code",
   "execution_count": 6,
   "metadata": {},
   "outputs": [],
   "source": [
    "from collections import namedtuple\n",
    "fields = (\"tag\", \"count\" )\n",
    "Tweet = namedtuple( 'Tweet', fields )"
   ]
  },
  {
   "cell_type": "code",
   "execution_count": 7,
   "metadata": {},
   "outputs": [],
   "source": [
    "# Use Parenthesis for multiple lines or use \\.\n",
    "( lines.flatMap( lambda text: text.split( \" \" ) ) #Splits to a list\n",
    "  .filter( lambda word: word.lower().startswith(\"#\") ) # Checks for hashtag calls\n",
    "  .map( lambda word: ( word.lower(), 1 ) ) # Lower cases the word\n",
    "  .reduceByKey( lambda a, b: a + b ) # Reduces\n",
    "  .map( lambda rec: Tweet( rec[0], rec[1] ) ) # Stores in a Tweet Object\n",
    "  .foreachRDD( lambda rdd: rdd.toDF().sort( desc(\"count\") ) # Sorts Them in a DF\n",
    "  .limit(10).registerTempTable(\"tweets\") ) ) # Registers to a table."
   ]
  },
  {
   "cell_type": "markdown",
   "metadata": {},
   "source": [
    " # <center>Now Run TweetRead.py</center>\n",
    " \n",
    " <center>python3 TweetRead.py</center>"
   ]
  },
  {
   "cell_type": "code",
   "execution_count": 8,
   "metadata": {},
   "outputs": [],
   "source": [
    "ssc.start()  "
   ]
  },
  {
   "cell_type": "code",
   "execution_count": 9,
   "metadata": {},
   "outputs": [],
   "source": [
    "import time\n",
    "from IPython import display\n",
    "import matplotlib.pyplot as plt\n",
    "import seaborn as sns\n",
    "# Only works for Jupyter Notebooks!\n",
    "%matplotlib inline "
   ]
  },
  {
   "cell_type": "code",
   "execution_count": 10,
   "metadata": {},
   "outputs": [
    {
     "data": {
      "image/png": "[encoded data removed]",
      "text/plain": [
       "<Figure size 720x576 with 1 Axes>"
      ]
     },
     "metadata": {
      "needs_background": "light"
     },
     "output_type": "display_data"
    }
   ],
   "source": [
    "count = 0\n",
    "while count < 10:\n",
    "    \n",
    "    time.sleep( 3 )\n",
    "    top_10_tweets = sqlContext.sql( 'Select tag, count from tweets' )\n",
    "    top_10_df = top_10_tweets.toPandas()\n",
    "    display.clear_output(wait=True)\n",
    "    plt.figure( figsize = ( 10, 8 ) )\n",
    "    sns.barplot( x=\"count\", y=\"tag\", data=top_10_df)\n",
    "    plt.show()\n",
    "    count = count + 1"
   ]
  },
  {
   "cell_type": "code",
   "execution_count": 11,
   "metadata": {},
   "outputs": [],
   "source": [
    "ssc.stop()"
   ]
  },
  {
   "cell_type": "code",
   "execution_count": 12,
   "metadata": {},
   "outputs": [
    {
     "data": {
      "text/plain": [
       "pandas.core.frame.DataFrame"
      ]
     },
     "execution_count": 12,
     "metadata": {},
     "output_type": "execute_result"
    }
   ],
   "source": [
    "type(top_10_df)"
   ]
  },
  {
   "cell_type": "code",
   "execution_count": null,
   "metadata": {},
   "outputs": [],
   "source": []
  }
 ],
 "metadata": {
  "kernelspec": {
   "display_name": "Python 3",
   "language": "python",
   "name": "python3"
  },
  "language_info": {
   "codemirror_mode": {
    "name": "ipython",
    "version": 3
   },
   "file_extension": ".py",
   "mimetype": "text/x-python",
   "name": "python",
   "nbconvert_exporter": "python",
   "pygments_lexer": "ipython3",
   "version": "3.6.9"
  }
 },
 "nbformat": 4,
 "nbformat_minor": 4
}
